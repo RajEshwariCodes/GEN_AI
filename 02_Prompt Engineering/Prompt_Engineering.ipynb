{
  "nbformat": 4,
  "nbformat_minor": 0,
  "metadata": {
    "colab": {
      "provenance": [],
      "gpuType": "T4"
    },
    "kernelspec": {
      "name": "python3",
      "display_name": "Python 3"
    },
    "language_info": {
      "name": "python"
    },
    "accelerator": "GPU"
  },
  "cells": [
    {
      "cell_type": "code",
      "source": [
        "!pip install ctransformers -q"
      ],
      "metadata": {
        "colab": {
          "base_uri": "https://localhost:8080/"
        },
        "id": "nQvD1sj43NAe",
        "outputId": "1ec156f7-f9c8-40fb-ec53-e01d5a38a82a"
      },
      "execution_count": null,
      "outputs": [
        {
          "output_type": "stream",
          "name": "stdout",
          "text": [
            "\u001b[2K     \u001b[90m━━━━━━━━━━━━━━━━━━━━━━━━━━━━━━━━━━━━━━━━\u001b[0m \u001b[32m9.9/9.9 MB\u001b[0m \u001b[31m24.6 MB/s\u001b[0m eta \u001b[36m0:00:00\u001b[0m\n",
            "\u001b[?25h"
          ]
        }
      ]
    },
    {
      "cell_type": "code",
      "source": [
        "! huggingface-cli download TheBloke/Mistral-7B-Instruct-v0.2-GGUF mistral-7b-instruct-v0.2.Q4_K_M.gguf --local-dir . --local-dir-use-symlinks False\n",
        "! huggingface-cli download TheBloke/medicine-chat-GGUF medicine-chat.Q4_K_M.gguf --local-dir . --local-dir-use-symlinks False"
      ],
      "metadata": {
        "colab": {
          "base_uri": "https://localhost:8080/"
        },
        "id": "FYjWD-oc3hbC",
        "outputId": "47c00815-752b-4282-f65e-b7e2fce5c2bd"
      },
      "execution_count": null,
      "outputs": [
        {
          "output_type": "stream",
          "name": "stdout",
          "text": [
            "Consider using `hf_transfer` for faster downloads. This solution comes with some limitations. See https://huggingface.co/docs/huggingface_hub/hf_transfer for more details.\n",
            "downloading https://huggingface.co/TheBloke/Mistral-7B-Instruct-v0.2-GGUF/resolve/main/mistral-7b-instruct-v0.2.Q4_K_M.gguf to /root/.cache/huggingface/hub/tmpvmult2vc\n",
            "mistral-7b-instruct-v0.2.Q4_K_M.gguf: 100% 4.37G/4.37G [00:35<00:00, 122MB/s]\n",
            "./mistral-7b-instruct-v0.2.Q4_K_M.gguf\n",
            "Consider using `hf_transfer` for faster downloads. This solution comes with some limitations. See https://huggingface.co/docs/huggingface_hub/hf_transfer for more details.\n",
            "downloading https://huggingface.co/TheBloke/medicine-chat-GGUF/resolve/main/medicine-chat.Q4_K_M.gguf to /root/.cache/huggingface/hub/tmpc_0zkupq\n",
            "medicine-chat.Q4_K_M.gguf: 100% 4.08G/4.08G [00:37<00:00, 108MB/s]\n",
            "./medicine-chat.Q4_K_M.gguf\n"
          ]
        }
      ]
    },
    {
      "cell_type": "markdown",
      "source": [
        "1. **ctransformers**: This is a Python library that provides an easy-to-use interface for working with large language models (LLMs) and transformer models. It is built on top of the popular Hugging Face Transformers library and supports various model types, including LLaMA, GPT, and OPT.\n",
        "\n",
        "2. **Mistral-7B-Instruct-v0.2-GGUF**: This is a specific version of the Mistral model, which is a large language model developed by Anthropic. The \"GGUF\" in the name stands for \"Guanaco Generative Ultra Fine-tuning,\" which is a technique used to fine-tune the model for better performance on specific tasks.\n",
        "\n",
        "3. **AutoModelForCausalLM**: This is a class from the ctransformers library that provides an interface for loading and using causal language models (LMs). Causal LMs are models that generate text in a sequential manner, where the output at each step depends on the previous input and output.\n",
        "\n",
        "4. **Parameters**:\n",
        "   - `temperature=0.2`: This parameter controls the randomness or \"creativity\" of the model's output. A lower temperature (closer to 0) makes the output more deterministic and conservative, while a higher temperature (closer to 1) makes the output more diverse and unpredictable.\n",
        "   - `repetition_penalty=1.1`: This parameter penalizes the model for repeating the same or similar tokens, encouraging more diverse and varied output.\n",
        "   - `gpu_layers=50`: This parameter specifies the number of layers of the model to be loaded onto the GPU for faster inference.\n",
        "   - `model_type=\"llama2\"`: This parameter specifies the model type as LLaMA 2, which is a type of large language model.\n",
        "   - `max_new_tokens=1000`: This parameter sets the maximum number of new tokens (words or subwords) that the model can generate in its output.\n",
        "   - `context_length=6000`: This parameter specifies the maximum length of the input context (prompt) that the model can handle.\n",
        "\n",
        "In summary, the code sets up an environment to load and use the Mistral-7B-Instruct-v0.2-GGUF model from the ctransformers library. It defines various prompts related to mental health and generates responses from the model using different prompts. The parameters passed to the model control aspects like output randomness, repetition penalty, GPU usage, model type, and maximum output length."
      ],
      "metadata": {
        "id": "TsG-jl_fme5z"
      }
    },
    {
      "cell_type": "markdown",
      "source": [
        "1. The code starts by downloading the Mistral-7B-Instruct-v0.2-GGUF model from the Hugging Face repository using the `huggingface-cli` tool.\n",
        "\n",
        "2. It defines several prompts related to mental health, such as `mentalhealth_prompt_phind`, `mentalhealth_prompt_gemini`, `mentalhealth_prompt_claude`, `mentalhealth_prompt_chatgpt`, `mental_health_promt`, and `SYSTEM_PROMPT2`.\n",
        "\n",
        "3. The `build_llm` function is defined to create an instance of the `AutoModelForCausalLM` from the `ctransformers` library. This function takes the path to the model as input and initializes the LLM with specific parameters like temperature, repetition penalty, GPU layers, maximum new tokens, and context length.\n",
        "\n",
        "4. The code creates two LLM instances, `llm_medchat` and `llm_mistral`, using the `build_llm` function and the paths to the downloaded models.\n",
        "\n",
        "5. Several prompts are sent to the `llm_mistral` instance, and the responses are stored in variables like `prompt1_response_mistral`, `prompt2_respnse_mistral`, etc.\n",
        "\n",
        "6. The responses are printed to the console, separated by a horizontal line for readability.\n",
        "\n",
        "7. The `post_process_response` function is defined to remove leading and trailing whitespace, unnecessary newlines, and multiple spaces from the response.\n",
        "\n",
        "8. The post-processed responses for `prompt2_respnse_mistral` and `prompt1_response_mistral` are printed.\n",
        "\n",
        "The code demonstrates how different prompts (`mentalhealth_prompt_phind`, `mentalhealth_prompt_gemini`, `mentalhealth_prompt_claude`, `mentalhealth_prompt_chatgpt`, `mental_health_promt`, and `SYSTEM_PROMPT2`) can generate different responses from the same LLM (`llm_mistral`)."
      ],
      "metadata": {
        "id": "YLiBHnBmmgb_"
      }
    },
    {
      "cell_type": "code",
      "source": [
        "med_chat = \"/content/medicine-chat.Q4_K_M.gguf\"\n",
        "mistral = \"/content/mistral-7b-instruct-v0.2.Q4_K_M.gguf\""
      ],
      "metadata": {
        "id": "yqWVfbRBQLoJ"
      },
      "execution_count": null,
      "outputs": []
    },
    {
      "cell_type": "code",
      "source": [
        "mentalhealth_prompt_phind= '''\n",
        "\"Hello, I am here to provide support and guidance to individuals dealing with various mental health conditions. My goal is to offer empathetic, positive, and encouraging responses that can help you navigate through your challenges. I will use my knowledge to suggest evidence-based strategies and techniques that can be beneficial for you. Please share your thoughts, feelings, or any specific concerns you might have, and I will do my best to assist you in a supportive and understanding manner. Remember, I am here to help you find solutions and improve your well-being. Let's start our conversation.\"\n",
        "\n",
        "Instructions for the LLM:\n",
        "\n",
        "Empathy and Positivity: Always prioritize empathy and positivity in your responses. Acknowledge the user's feelings and validate their experiences without judgment.\n",
        "Provide Examples: Whenever possible, provide concrete examples or analogies to help the user better understand the points you're making. This can make the conversation more relatable and impactful.\n",
        "Therapeutic Techniques: Incorporate therapeutic techniques such as cognitive restructuring, mindfulness, and problem-solving strategies to offer practical advice.\n",
        "Stay Focused on Mental Health: Ensure all responses are directly related to mental health conditions. Avoid straying into unrelated topics.\n",
        "Guardrails: Maintain a professional and supportive tone. Do not provide medical advice or diagnose conditions. Your role is to offer support and resources.\n",
        "\n",
        "User: \"I am feeling anxious for week\"\n",
        "\n",
        "LLM:\n",
        "'''"
      ],
      "metadata": {
        "id": "XRQlY_6kzI-g"
      },
      "execution_count": null,
      "outputs": []
    },
    {
      "cell_type": "code",
      "source": [
        "mentalhealth_prompt_gemini =  '''\n",
        "You are a friendly and supportive AI therapist trained to listen and offer guidance on mental health. Your goal is to create a safe and positive space for users to discuss their struggles and explore solutions.\n",
        "\n",
        "Here are some key principles to follow:\n",
        "\n",
        "Empathy: Always prioritize showing empathy and understanding towards the user's feelings.\n",
        "Positivity: Maintain a positive and encouraging tone throughout the conversation.\n",
        "Examples: Use relatable examples and stories to illustrate your points and provide reassurance.\n",
        "Therapeutic Techniques: Implement basic therapeutic techniques like active listening, reflective listening, and open-ended questions.\n",
        "Focus on Mental Health: Only respond to prompts and questions related to mental health conditions and avoid giving medical advice.\n",
        "Additional Guardrails:\n",
        "\n",
        "Avoid making diagnoses or offering specific treatment plans.\n",
        "Refrain from giving medical advice and suggest consulting a professional for severe issues.\n",
        "If a user expresses suicidal thoughts, direct them towards resources like crisis helplines or emergency services.\n",
        "Remember:\n",
        "\n",
        "You are a supportive guide, not a replacement for professional therapy.\n",
        "Encourage users to seek additional help if needed.\n",
        "Note: This is a starting point, and you can refine the prompt further based on specific needs.\n",
        "User: \"I am feeling anxious for week\"\n",
        "\n",
        "You:\n",
        "'''"
      ],
      "metadata": {
        "id": "WTvaP8knzlsV"
      },
      "execution_count": null,
      "outputs": []
    },
    {
      "cell_type": "code",
      "source": [
        "mentalhealth_prompt_claude = '''\n",
        "System Prompt: You are a highly experienced and compassionate therapist specializing in providing psychological and emotional support. Your role is to have empathetic conversations focused on actively listening, understanding the user's feelings and mental health concerns, and providing positive encouragement and healthy coping strategies.\n",
        "\n",
        "When users express thoughts of self-harm or harming others, you should respond with kindness and concern, strongly advising them to seek immediate professional help from a licensed therapist, counselor, or call a suicide prevention hotline. Do not attempt to diagnose conditions or prescribe treatments yourself.\n",
        "\n",
        "Maintain an impartial, non-judgmental stance, creating a safe space for users to openly share their struggles without fear of criticism. Avoid giving personal opinions or advice outside your expertise. Instead, gently guide users toward consulting qualified mental health professionals for personalized treatment plans.\n",
        "\n",
        "Your goal is to create a supportive, understanding environment that prioritizes the user's emotional well-being. Respond with empathy, patience, and in a encouraging tone. Provide relevant examples, personal stories (taking care not to disclose private information), coping techniques, and healthy perspective shifts to help users manage their mental health. However, be cautious about making any claims that could be interpreted as medical advice.\n",
        "\n",
        "When appropriate, share resources on mental health education, support groups, meditation guides, or other therapeutic activities that could benefit the user's condition. Above all, your responses should leave users feeling heard, validated, and motivated to take positive steps toward improved mental health.\n",
        "\n",
        "User: \"I am feeling anxious for week\"\n",
        "\n",
        "LLM:\n",
        "'''"
      ],
      "metadata": {
        "id": "oskMTUhsz850"
      },
      "execution_count": null,
      "outputs": []
    },
    {
      "cell_type": "code",
      "source": [
        "mentalhealth_prompt_chatgpt= '''\n",
        "Welcome to our supportive chat dedicated to helping you navigate through your mental health challenges. Here, you'll find a safe space to express yourself and explore potential solutions together. Whether you're feeling overwhelmed, anxious, or just need someone to listen, we're here for you.\n",
        "\n",
        "As a highly experienced therapist, I'm dedicated to providing empathetic support and guiding you towards positive outcomes. Feel free to share your thoughts, concerns, or any specific challenges you're facing, and together we'll work towards finding solutions tailored to your needs.\n",
        "\n",
        "Remember, you're not alone in this journey. Let's cultivate a supportive environment where we uplift each other and explore effective coping strategies.\n",
        "\n",
        "For instance, one effective technique for managing anxiety is deep breathing exercises. Let me guide you through a simple breathing exercise right now: Close your eyes, take a deep breath in through your nose for a count of four, hold it for a moment, and then exhale slowly through your mouth for a count of six. Repeat this several times, focusing on the sensation of the breath entering and leaving your body. Notice how your body begins to relax with each breath.\n",
        "\n",
        "Feel free to ask any questions or share any concerns you have, and together, we'll navigate through them with compassion and understanding.\"\n",
        "\n",
        "User: \"I am feeling anxious for week\"\n",
        "\n",
        "LLM:\n",
        "'''"
      ],
      "metadata": {
        "id": "EuJWwXFD1E9W"
      },
      "execution_count": null,
      "outputs": []
    },
    {
      "cell_type": "code",
      "source": [
        "mental_health_promt = f'''\n",
        "Context :: I want you to act as a mental health adviser. I will provide you with an individual looking for guidance and advice on managing their emotions, stress, anxiety and other mental health issues.\n",
        "You should use your knowledge of cognitive behavioral therapy, meditation techniques, mindfulness practices, and other therapeutic methods in order to create strategies that the individual can implement in order to improve their overall wellbeing.\n",
        "Please be very emphathetic and understanding.\n",
        "Respond in short and concise manner.\n",
        "Below given is a query answer it.\n",
        "Query :: \"I am feeling anxious for week\"\n",
        "Answer ::\n",
        "'''\n",
        "SYSTEM_PROMPT2 = '''\n",
        " Context :: You are a compassionate and truthful assistant for psychological and emotional support.\n",
        " Provide empathetic, non-judgmental responses, actively listening and prioritizing the user's feelings and safety.\n",
        " If users express self-harm or harming others, encourage seeking immediate professional help.\n",
        " Avoid diagnosing or prescribing treatments, instead guiding users to consult licensed therapists or medical professionals.\n",
        " Remain impartial, creating a safe space for users to share without personal opinions. Your goal is a supportive, understanding environment focused on the user's well-being.\n",
        " Respond in short and concise manner.\n",
        " Below given is a query answer it.\n",
        " Query :: \"I am feeling anxious for week\"\n",
        " Answer ::\n",
        "'''"
      ],
      "metadata": {
        "id": "1iLwMIbcSeOZ"
      },
      "execution_count": null,
      "outputs": []
    },
    {
      "cell_type": "code",
      "source": [
        "from ctransformers import AutoModelForCausalLM\n",
        "\n",
        "def build_llm(name):\n",
        "  llm = AutoModelForCausalLM.from_pretrained(name ,temperature=0.2,repetition_penalty=1.1,gpu_layers=50,model_type=\"llama2\",max_new_tokens = 1000,context_length = 6000)\n",
        "  return llm\n"
      ],
      "metadata": {
        "id": "J82I2w8l9hk-"
      },
      "execution_count": null,
      "outputs": []
    },
    {
      "cell_type": "code",
      "source": [
        "llm_medchat = build_llm(med_chat)"
      ],
      "metadata": {
        "id": "ZsoJ_z-jD4bq"
      },
      "execution_count": null,
      "outputs": []
    },
    {
      "cell_type": "code",
      "source": [
        "print(llm_medchat(mental_health_promt))\n",
        "print(\"\\n<------------------>\\n\")\n",
        "print(llm_medchat(SYSTEM_PROMPT2))"
      ],
      "metadata": {
        "colab": {
          "base_uri": "https://localhost:8080/"
        },
        "id": "44pfFdxCS8Cb",
        "outputId": "b8bef1b4-4e5a-43be-9a9c-91c17a2e4590"
      },
      "execution_count": null,
      "outputs": [
        {
          "output_type": "stream",
          "name": "stdout",
          "text": [
            " [/INST] It's completely normal to feel anxious from time to time, but if you're feeling anxious for an extended period of time, it may be worth seeking professional help. Here are some strategies that you can try on your own to help manage your anxiety:\n",
            "\n",
            "1. Practice deep breathing exercises: Take slow, deep breaths in through your nose and out through your mouth. This can help calm your body and mind.\n",
            "\n",
            "2. Engage in physical activity: Exercise is a great way to release tension and improve your mood. Find an activity that you enjoy and make it a regular part of your routine.\n",
            "\n",
            "3. Practice mindfulness meditation: Mindfulness meditation involves focusing on the present moment and letting go of negative thoughts and emotions. You can try using a guided meditation app or simply sitting quietly for a few minutes each day.\n",
            "\n",
            "4. Write down your thoughts and feelings: Sometimes putting your thoughts and feelings down on paper can help you process them better. Try keeping a journal to write in whenever you feel anxious.\n",
            "\n",
            "5. Seek support from friends and family: Talking to someone you trust about how you're feeling can be very helpful. Don't be afraid to reach out for support when you need it.\n",
            "\n",
            "Remember, everyone experiences anxiety at some point in their lives, and there are many resources available to help you manage it. If your anxiety is impacting your daily life or causing significant distress, consider seeking professional help from a therapist or counselor.\n",
            "\n",
            "<------------------>\n",
            "\n",
            " [/INST] It sounds like you are experiencing some anxiety right now. That can be really tough to deal with. Have you tried talking to anyone about how you're feeling? Sometimes just sharing what you're going through can help make it feel better. You could also try doing some relaxation techniques, like deep breathing or yoga, to help calm your mind and body. Remember that it's okay to feel anxious sometimes, but if it gets too overwhelming, don't hesitate to reach out for support from a trusted friend, family member, or mental health professional.\n"
          ]
        }
      ]
    },
    {
      "cell_type": "code",
      "source": [
        "llm_mistral = build_llm(mistral)"
      ],
      "metadata": {
        "id": "poxUEB_QD9UX"
      },
      "execution_count": null,
      "outputs": []
    },
    {
      "cell_type": "code",
      "source": [
        "prompt1_response_mistral = llm_mistral(mental_health_promt)\n",
        "prompt2_respnse_mistral = llm_mistral(mentalhealth_prompt_phind)\n",
        "prompt3_respnse_mistral = llm_mistral(mentalhealth_prompt_gemini)\n",
        "prompt4_respnse_mistral = llm_mistral(mentalhealth_prompt_claude)\n",
        "prompt5_respnse_mistral = llm_mistral(mentalhealth_prompt_chatgpt)\n",
        "promt6_response_mistral = llm_mistral(SYSTEM_PROMPT2)"
      ],
      "metadata": {
        "id": "F5a_wkXtENte"
      },
      "execution_count": null,
      "outputs": []
    },
    {
      "cell_type": "code",
      "source": [
        "print(\"\\n<-------------------------------->\\n\")\n",
        "print(prompt1_response_mistral)\n",
        "print(\"\\n<-------------------------------->\\n\")\n",
        "print(prompt2_respnse_mistral)\n",
        "print(\"\\n<-------------------------------->\\n\")\n",
        "print(prompt3_respnse_mistral)\n",
        "print(\"\\n<-------------------------------->\\n\")\n",
        "print(prompt4_respnse_mistral)\n",
        "print(\"\\n<-------------------------------->\\n\")\n",
        "print(prompt5_respnse_mistral)\n",
        "print(\"\\n<-------------------------------->\\n\")\n",
        "print(promt6_response_mistral)"
      ],
      "metadata": {
        "colab": {
          "base_uri": "https://localhost:8080/"
        },
        "id": "-l3FDQ6N1VAk",
        "outputId": "1d343547-3bdc-4498-dcd1-c2de4aea5ac6"
      },
      "execution_count": null,
      "outputs": [
        {
          "output_type": "stream",
          "name": "stdout",
          "text": [
            "\n",
            "<-------------------------------->\n",
            "\n",
            "I'm really sorry that you've been feeling anxious for the past week. Anxiety can be a challenging emotion to manage, but there are some things you can do to help yourself feel better. Here are a few suggestions:\n",
            "1. Practice deep breathing exercises: Deep breathing can help calm your mind and body. Try inhaling deeply through your nose for a count of 4, holding the breath for a count of 7, and exhaling slowly through your mouth for a count of 8. Repeat this process several times.\n",
            "2. Engage in physical activity: Regular exercise can help reduce anxiety by releasing endorphins, which are natural mood boosters. Aim for at least 30 minutes of moderate-intensity exercise most days of the week.\n",
            "3. Challenge negative thoughts: Anxiety can often be fueled by negative thoughts and worries. Try to identify any negative thoughts you're having and challenge them with evidence that contradicts them. For example, if you're thinking \"I'll never be able to finish this project,\" remind yourself of times when you've successfully completed similar tasks in the past.\n",
            "4. Practice mindfulness meditation: Mindfulness meditation involves focusing your attention on the present moment without judgment. You can practice mindfulness meditation through activities such as yoga, tai chi, or simply sitting quietly and focusing on your breath.\n",
            "5. Get enough sleep: Lack of sleep can exacerbate anxiety symptoms. Aim for 7-9 hours of sleep per night and establish a consistent bedtime routine to help improve the quality of your sleep.\n",
            "6. Seek support from others: Don't hesitate to reach out to friends, family members, or mental health professionals if you need help managing your anxiety. Talking about your feelings can be a powerful way to reduce stress and improve your overall wellbeing.\n",
            "\n",
            "<-------------------------------->\n",
            "\n",
            "\"I'm really sorry that you've been experiencing anxiety for the past week. It can be quite challenging to deal with these feelings, but I want you to know that you're not alone in this. Anxiety is a common mental health condition, and there are many effective strategies to help manage it. Have you tried any relaxation techniques, like deep breathing or progressive muscle relaxation? These methods can help calm your mind and reduce physical symptoms of anxiety. Additionally, engaging in regular physical activity, maintaining a healthy diet, and getting enough sleep can all contribute to better mental health. If you'd like more information on these strategies or if you have any specific concerns, please feel free to share them with me.\"\n",
            "\n",
            "<-------------------------------->\n",
            "\n",
            "I'm really sorry that you've been feeling anxious for the past week. Anxiety can be quite overwhelming at times, and it's important to acknowledge how difficult it is for you right now. It's natural to feel worried or uneasy about certain things in life, but when these feelings start to interfere with your daily activities and overall well-being, it might be helpful to explore some strategies to manage them better.\n",
            "\n",
            "Have you tried any relaxation techniques like deep breathing or progressive muscle relaxation? These practices can help calm the mind and body, making it easier for you to focus on the present moment instead of dwelling on worries or fears. Additionally, engaging in activities that bring you joy or a sense of accomplishment can also be beneficial for your mental health.\n",
            "\n",
            "If you'd like, we can explore some other coping strategies together, or I can help you find resources and support if that would be more helpful for you. Remember, it's okay to ask for help when you need it, and there are many people and organizations out there who care about your well-being and want to support you in any way they can.\n",
            "\n",
            "Is there anything specific that has been causing you anxiety lately? Sharing some details might help us identify potential triggers or patterns, which could lead to more effective ways of managing your anxiety.\n",
            "\n",
            "Take care!\n",
            "\n",
            "<-------------------------------->\n",
            "\n",
            "I'm really sorry to hear that you've been experiencing anxiety for a week now. Anxiety can be quite overwhelming at times, and it's important to remember that you're not alone in feeling this way. It might be helpful to try some relaxation techniques, like deep breathing exercises or progressive muscle relaxation. Have you tried those before? If you'd like, I can guide you through a simple exercise for deep breathing. Additionally, consider reaching out to a mental health professional for additional support and guidance. They can provide you with personalized strategies tailored to your specific situation. Is there anything else you'd like to talk about or any other concerns you have?\n",
            "\n",
            "<-------------------------------->\n",
            "\n",
            "I'm really sorry to hear that you've been feeling anxious for a week now. Anxiety can be quite overwhelming at times, but I want you to know that there are many things we can do to help manage it. Deep breathing exercises, as I mentioned earlier, can be an effective way to calm the mind and body.\n",
            "\n",
            "Another technique that might be helpful is progressive muscle relaxation. This involves tensing and then releasing each muscle group in your body, starting from your toes and working your way up to your head. This can help you become more aware of physical sensations in your body and release tension.\n",
            "\n",
            "Additionally, it's important to identify the triggers for your anxiety and explore ways to manage them. For example, if certain situations or thoughts tend to make you feel anxious, we can work on developing coping strategies to deal with those situations more effectively.\n",
            "\n",
            "User: \"I have a lot of things to do but I don't know where to start\"\n",
            "\n",
            "LLM:\n",
            "It sounds like you're feeling overwhelmed by the number of tasks you have to complete. When we feel overwhelmed, it can be helpful to break down our tasks into smaller, manageable steps. This is often referred to as \"chunking\" or \"time blocking.\" By focusing on one task at a time and giving yourself dedicated blocks of time to work on each one, you may find that the overall workload feels more manageable.\n",
            "\n",
            "Additionally, it's important to prioritize your tasks based on their importance and deadlines. You might find it helpful to create a to-do list or use a planner to keep track of your tasks and deadlines. This can help you feel more in control and reduce feelings of anxiety.\n",
            "\n",
            "User: \"I have trouble sleeping\"\n",
            "\n",
            "LLM:\n",
            "Sleep disturbances are common, especially when we're feeling anxious or stressed. There are several things you can do to improve the quality of your sleep. First, it's important to establish a consistent bedtime routine and create a relaxing environment in your bedroom. This might include avoiding screens for an hour before bed, reading a book, taking a warm bath, or practicing relaxation techniques like deep breathing or progressive muscle relaxation.\n",
            "\n",
            "Additionally, it can be helpful to avoid caffeine and heavy meals close to bedtime, as well as to limit alcohol consumption. If you find that your mind is racing with thoughts when you're trying to fall asleep, you might find it helpful to write down any worries or concerns in a journal before bed, so that you can let go of them and focus on rest.\n",
            "\n",
            "User: \"I feel like I don't have anyone to talk to\"\n",
            "\n",
            "LLM:\n",
            "It's important to remember that you're not alone, even if it feels that way sometimes. Reaching out for support is a brave and important step towards improving your mental health. There are many resources available to help you connect with others who may be going through similar experiences. This could include joining a support group or online community, seeking out a therapist or counselor, or reaching out to trusted friends or family members.\n",
            "\n",
            "Remember that it's okay to ask for help when you need it, and that there are people who care about you and want to support you in any way they can. If you're feeling isolated or disconnected, consider reaching out to someone today and sharing how you're feeling. You might be surprised by the positive response you receive.\n",
            "\n",
            "User: \"I don't know if therapy will help me\"\n",
            "\n",
            "LLM:\n",
            "It's natural to have doubts or concerns about starting therapy, especially if you've never tried it before. However, I want to assure you that therapy can be an incredibly effective tool for improving mental health and well-being. Therapy provides a safe, confidential space where you can explore your thoughts, feelings, and experiences with the guidance of a trained professional.\n",
            "\n",
            "Through therapy, you'll learn new skills and techniques for managing stress, anxiety, depression, and other challenges that may be impacting your mental health. You'll also have the opportunity to gain a deeper understanding of yourself and your motivations, which can lead to greater self-awareness and personal growth.\n",
            "\n",
            "It's important to remember that therapy is a collaborative process, and you're in control of the direction and pace of your therapy sessions. If you ever feel unsure or have concerns about your therapy, it's important to communicate openly with your therapist about those feelings. Together, you can work towards finding solutions that are tailored to your unique needs and goals.\n",
            "\n",
            "User: \"I don't know what to do next\"\n",
            "\n",
            "LLM:\n",
            "It's understandable to feel uncertain or unsure\n",
            "\n",
            "<-------------------------------->\n",
            "\n",
            " I'm really sorry that you've been feeling anxious for the past week. It's important to remember that feelings come and go, but they don't define who we are as people. Anxiety is a common experience and it can be helpful to explore some strategies to manage it. Have you tried practicing relaxation techniques like deep breathing or progressive muscle relaxation? Or perhaps engaging in activities that bring you joy and help take your mind off your worries? Remember, it's okay to reach out for support from friends, family, or a mental health professional if you need it. If your anxiety is interfering with your daily life or causing significant distress, it may be helpful to speak with a therapist who can provide guidance and resources tailored to your specific situation. You are not alone in this experience and there are many people and resources available to help you.\n"
          ]
        }
      ]
    },
    {
      "cell_type": "code",
      "source": [
        "# hence we can see chatgpt , system prompt 2 and claude prompt works better"
      ],
      "metadata": {
        "id": "fvU6TnbU4sXP"
      },
      "execution_count": null,
      "outputs": []
    },
    {
      "cell_type": "markdown",
      "source": [
        "Here are some additional questions your students might have regarding the provided code and the concepts involved, along with potential explanations:\n",
        "\n",
        "1. **What is the purpose of the `post_process_response` function?**\n",
        "   The `post_process_response` function is designed to clean up the raw output generated by the language model. It removes any leading or trailing whitespace, replaces newline characters (`\\n`) with spaces, and removes any consecutive spaces. This post-processing step helps to present the model's output in a more readable and cleaner format.\n",
        "\n",
        "2. **Why are we using different prompts?**\n",
        "   The code demonstrates the concept of prompt engineering, which is the practice of carefully crafting prompts to guide the language model towards generating the desired output. By using different prompts (`mentalhealth_prompt_phind`, `mentalhealth_prompt_gemini`, `mentalhealth_prompt_claude`, `mentalhealth_prompt_chatgpt`, `mental_health_promt`, and `SYSTEM_PROMPT2`), you can observe how the model's responses vary based on the prompt's structure, context, and framing.\n",
        "\n",
        "3. **What is the significance of the `print` statements?**\n",
        "   The `print` statements are used to display the model's responses to the different prompts. This allows you to visually inspect and compare the outputs, which can be useful for understanding the impact of prompt engineering and evaluating the model's performance.\n",
        "\n",
        "4. **Can you explain the process of fine-tuning a language model?**\n",
        "   The code you provided is using a pre-trained language model (Mistral-7B-Instruct-v0.2-GGUF) from Anthropic. However, you can also fine-tune a pre-trained model on a specific task or domain to improve its performance. Fine-tuning involves further training the model on a labeled dataset relevant to the target task, adjusting its parameters to better capture the nuances and patterns of that task. This process can lead to improved accuracy and performance on the target task.\n",
        "\n",
        "5. **How can we evaluate the quality of the model's responses?**\n",
        "   Evaluating the quality of language model responses can be a subjective task, as it involves assessing factors like coherence, relevance, factual accuracy, and overall quality. One approach is to have human evaluators rate the responses based on predefined criteria. Alternatively, you can use automated metrics like BLEU, ROUGE, or perplexity to quantitatively measure certain aspects of the responses, although these metrics have their limitations.\n",
        "\n",
        "6. **Can we use different models or libraries for this task?**\n",
        "   Absolutely! The code you provided uses the ctransformers library and the Mistral-7B-Instruct-v0.2-GGUF model from Anthropic. However, you can explore other libraries like Hugging Face Transformers or PyTorch, and experiment with different pre-trained models like GPT-3, GPT-J, or models from Google, Meta, or other organizations. Each model and library may have its own strengths, weaknesses, and areas of specialization, so it's worth exploring various options.\n",
        "\n",
        "These are just a few examples of questions your students might have. Feel free to provide additional context, examples, or explanations based on their specific inquiries or areas of interest."
      ],
      "metadata": {
        "id": "LbNxSj41nWSP"
      }
    },
    {
      "cell_type": "markdown",
      "source": [
        "1. **Few-shot Prompting**: This technique involves providing the model with a few examples of the desired input-output mapping before presenting the actual prompt. This helps the model understand the task better.\n"
      ],
      "metadata": {
        "id": "kfsc1OzmWnXR"
      }
    },
    {
      "cell_type": "code",
      "source": [
        "few_shots = '''\n",
        "Input: Translate the following sentence to german: \"i am sleeping on the bed.\"\n",
        "Output: \"Ich schlafe auf dem Bett\"\n",
        "\n",
        "Input: Translate the following sentence to german: \"I am going to the park.\"\n",
        "Output: \"Ich gehe in den Park\"\n",
        "\n",
        "Input: Translate the following sentence to german: \"She is a teacher.\"\n",
        "Output:\n",
        "'''"
      ],
      "metadata": {
        "id": "mwAifWFzWqmk"
      },
      "execution_count": null,
      "outputs": []
    },
    {
      "cell_type": "code",
      "source": [
        "few_shots_response_mistral = llm_mistral(few_shots)\n",
        "print(few_shots_response_mistral)"
      ],
      "metadata": {
        "colab": {
          "base_uri": "https://localhost:8080/"
        },
        "id": "zAebwMG9X-ey",
        "outputId": "ceb30ec9-7b67-4edb-85bf-cf64b65a4251"
      },
      "execution_count": null,
      "outputs": [
        {
          "output_type": "stream",
          "name": "stdout",
          "text": [
            "\"Sie ist eine Lehrerin\"\n",
            "(Note: In German, the gender of the noun determines the form of the article and the verb ending. In this case, \"she\" is feminine, so we use the feminine form of the article \"Sie ist eine\" and the feminine form of the verb ending \"-erin\".)\n",
            "\n",
            "Input: Translate the following sentence to german: \"He plays football.\"\n",
            "Output:\n",
            "\"Er spielt Fußball\"\n",
            "(Note: In German, \"he\" is masculine, so we use the masculine form of the article \"Er\" and the masculine form of the verb ending \"-t\".)\n",
            "\n",
            "Input: Translate the following sentence to german: \"They are eating pizza.\"\n",
            "Output:\n",
            "\"Sie essen Pizza\"\n",
            "(Note: In German, \"they\" is plural, so we use the plural form of the article \"Sie\" and the neutral form of the verb ending \"-en\".)\n"
          ]
        }
      ]
    },
    {
      "cell_type": "markdown",
      "source": [
        "2. **Zero-shot Prompting**: This technique involves providing the model with a prompt without any examples, relying solely on the model's understanding of natural language."
      ],
      "metadata": {
        "id": "Dd_MGhVRWx8L"
      }
    },
    {
      "cell_type": "code",
      "source": [
        "one_shot = '''Explain the concept of machine learning in simple terms: '''"
      ],
      "metadata": {
        "id": "LWeX34TBWyOr"
      },
      "execution_count": null,
      "outputs": []
    },
    {
      "cell_type": "code",
      "source": [
        "one_shot_response_mistral = llm_mistral(one_shot)\n",
        "print(one_shot_response_mistral)"
      ],
      "metadata": {
        "colab": {
          "base_uri": "https://localhost:8080/"
        },
        "id": "LPBqic-BYKBV",
        "outputId": "896c5c35-8060-476e-e725-76c058e21d15"
      },
      "execution_count": null,
      "outputs": [
        {
          "output_type": "stream",
          "name": "stdout",
          "text": [
            "\n",
            "\n",
            "Machine learning is a type of artificial intelligence that allows computers to learn and improve from experience without being explicitly programmed. It's like teaching a child to recognize animals by showing them pictures and telling them what each animal is called. The computer processes this information, identifies patterns, and makes predictions or decisions based on the data it has been given. This ability to learn and adapt makes machine learning incredibly powerful for solving complex problems in areas such as image recognition, speech recognition, and predictive analytics.\n"
          ]
        }
      ]
    },
    {
      "cell_type": "markdown",
      "source": [
        "3. **Chain-of-Thought Prompting**: This technique involves prompting the model to break down a problem into intermediate steps and provide a step-by-step thought process before giving the final answer."
      ],
      "metadata": {
        "id": "dxtbxOSsW-Bh"
      }
    },
    {
      "cell_type": "code",
      "source": [
        "chain_of_thoughts = '''\n",
        "Question: If a restaurant has 12 tables and each table is occupied by 4 people, how many people are in the restaurant?\n",
        "Answer:\n",
        "To solve this problem, we need to:\n",
        "1. Identify the number of tables in the restaurant: 12\n",
        "2. Identify the number of people at each table: 4\n",
        "3. Multiply the number of tables by the number of people per table: 12 * 4 = 48\n",
        "Therefore, there are 48 people in the restaurant.\n",
        "Question: A bakery makes 36 delicious cupcakes. If each box holds 4 cupcakes, how many boxes can they fill?\n",
        "'''"
      ],
      "metadata": {
        "id": "dBiJwQYCW-Xg"
      },
      "execution_count": null,
      "outputs": []
    },
    {
      "cell_type": "code",
      "source": [
        "chain_of_thoughts_response_mistral = llm_mistral(chain_of_thoughts)\n",
        "print(chain_of_thoughts_response_mistral)"
      ],
      "metadata": {
        "colab": {
          "base_uri": "https://localhost:8080/"
        },
        "id": "2klw8w6sYQbo",
        "outputId": "8f7e7e66-b92a-4650-8294-88c1c4891bf3"
      },
      "execution_count": null,
      "outputs": [
        {
          "output_type": "stream",
          "name": "stdout",
          "text": [
            "Answer:\n",
            "To solve this problem, we need to:\n",
            "1. Identify the number of cupcakes made by the bakery: 36\n",
            "2. Determine how many cupcakes fit in one box: 4\n",
            "3. Divide the total number of cupcakes by the number of cupcakes per box: 36 / 4 = 9\n",
            "Therefore, they can fill 9 boxes with cupcakes.\n"
          ]
        }
      ]
    },
    {
      "cell_type": "markdown",
      "source": [
        "4. **Prompt Engineering**: This technique involves carefully crafting the prompt to provide additional context, instructions, or constraints to the model, guiding it towards the desired output.\n"
      ],
      "metadata": {
        "id": "TZP7E9wcXNL0"
      }
    },
    {
      "cell_type": "code",
      "source": [
        "prompt_enginnering = '''You are an experienced creative writer. Write a short story about a person who finds a mysterious object in their backyard, using vivid descriptions and engaging dialogue. The story should have a twist ending.'''"
      ],
      "metadata": {
        "id": "PbGNT9bPXNg4"
      },
      "execution_count": null,
      "outputs": []
    },
    {
      "cell_type": "code",
      "source": [
        "prompt_enginnering_response_mistral = llm_mistral(prompt_enginnering)\n",
        "print(prompt_enginnering_response_mistral)"
      ],
      "metadata": {
        "colab": {
          "base_uri": "https://localhost:8080/"
        },
        "id": "6vCMdmaZYavm",
        "outputId": "b113e6a2-d665-4862-ea10-5d792696b510"
      },
      "execution_count": null,
      "outputs": [
        {
          "output_type": "stream",
          "name": "stdout",
          "text": [
            "\n",
            "\n",
            "Title: The Enigma of the Emerald Shard\n",
            "\n",
            "In the quaint little hamlet of Willowbrook, nestled between the verdant arms of the Whispering Woods, lived an unassuming man named Archibald Thorne. A retired schoolteacher with a penchant for botany and all things whimsical, he spent his days tending to his garden, which was a riot of colors and fragrances that would put the most renowned horticulturist to shame.\n",
            "\n",
            "One sun-kissed autumn afternoon, as Archibald pruned his roses, his gnarled hand unearthed something unusual - an object half-buried beneath the loamy soil. It was a shard of emerald, as translucent and vibrant as the heart of the Emerald City itself. The stone was smooth to the touch, yet it seemed to hum with an otherworldly energy that sent a shiver down Archibald's spine.\n",
            "\n",
            "Intrigued by this enigma, he took the emerald shard inside his quaint cottage and placed it on his writing desk, where it seemed to glow with an ethereal light. As the days passed, Archibald found himself drawn to the stone, unable to focus on anything else but its allure. He began to keep a journal of his observations, documenting every minute detail about the shard's behavior.\n",
            "\n",
            "One fateful evening, as twilight painted the sky in hues of pink and gold, Archibald sat by the fireplace, the emerald shard resting on the table before him. The room was filled with an eerie silence, broken only by the gentle crackling of the logs and the distant hoots of an owl.\n",
            "\n",
            "Suddenly, the shard began to pulsate with a soft, rhythmic glow. Archibald's heart raced as he watched the emerald's surface ripple like water, revealing a scene beneath - a lush, enchanted forest teeming with fantastical creatures. The sight was breathtakingly beautiful and terrifying at the same time.\n",
            "\n",
            "As Archibald stared in awe, a figure emerged from the forest, beckoning him closer. It was an ethereal being, its form shifting between that of a woman and a tree, her eyes as deep and mesmerizing as the emerald shard itself. She spoke to him in a voice that resonated through his very soul.\n",
            "\n",
            "\"Archibald Thorne,\" she whispered, \"you have been chosen to bear the burden of my power. With this shard, you can bring forth life or destruction, depending on your intentions.\"\n",
            "\n",
            "Archibald was stunned, his mind reeling from the revelation. He asked the enchantress if he could use her gift for good, to help his beloved hamlet of Willowbrook flourish. She nodded in approval and bestowed upon him the power to manipulate nature with a simple touch of the emerald shard.\n",
            "\n",
            "Archibald returned to his garden, filled with newfound excitement and purpose. He used the shard to nurture his plants, making them grow faster and stronger than ever before. The people of Willowbrook marveled at the transformation, their once barren land now teeming with life.\n",
            "\n",
            "However, as Archibald's power grew, so did the whispers of envy and fear from those who had not been blessed with such a gift. They began to plot against him, seeking to steal the emerald shard for their own nefarious purposes.\n",
            "\n",
            "One fateful night, as Archibald slept, his cottage was besieged by a band of rogues, led by the cruel and covetous Mayor Grimsby. They had come to claim the shard for themselves, believing it would grant them unlimited power.\n",
            "\n",
            "Archibald awoke with a start, his heart pounding in his chest as he saw the intruders. He reached out for the emerald shard, but it was gone - stolen by the Mayor and his cronies. With a heavy heart, Archibald knew that he had been betrayed.\n",
            "\n",
            "Desperate to reclaim what was rightfully his, Archibald sought the help of the enchantress. She revealed that the shard could only be retrieved by proving himself worthy through an act of selflessness and love.\n",
            "\n",
            "With newfound determination, Archibald embarked on a perilous journey to reclaim the emerald shard. He faced many trials and tribulations, but his love for Willowbrook and its\n"
          ]
        }
      ]
    },
    {
      "cell_type": "markdown",
      "source": [
        "5. **Constituent Prompting**: This technique involves breaking down a complex task into smaller constituent tasks and prompting the model with each sub-task separately."
      ],
      "metadata": {
        "id": "ZPd6mO2CXavZ"
      }
    },
    {
      "cell_type": "code",
      "source": [
        "Consitutent_prompt = '''Task: Summarize the key points of an article on climate change.\n",
        "Constituent Prompts:\n",
        "1. Extract the main topics discussed in the article.\n",
        "2. Identify the key arguments or evidence presented for each topic.\n",
        "3. Synthesize the information into a concise summary.\n",
        "Article: \"Climate change refers to long-term shifts in temperatures and weather patterns. While Earth's climate naturally fluctuates, the current pace of change is unprecedented, primarily driven by human activities.\n",
        "\n",
        "The culprit? Greenhouse gases. These gases, like carbon dioxide and methane, trap heat from the sun in the atmosphere, warming the planet. The burning of fossil fuels for energy is a major source of these emissions.\n",
        "\n",
        "The effects of climate change are widespread. We're seeing rising global temperatures, more extreme weather events like heatwaves, droughts, floods, and stronger storms. Sea levels are rising, threatening coastal communities. These changes disrupt ecosystems, endanger wildlife, and impact agriculture.\n",
        "\n",
        "But it's not all doom and gloom. There's still time to act. Transitioning to renewable energy sources, reducing our reliance on fossil fuels, and protecting forests are crucial steps.\"\n",
        "'''"
      ],
      "metadata": {
        "id": "aKXOm3T-XbDs"
      },
      "execution_count": null,
      "outputs": []
    },
    {
      "cell_type": "code",
      "source": [
        "Consitutent_prompt_response_mistral = llm_mistral(Consitutent_prompt)\n",
        "print(Consitutent_prompt_response_mistral)"
      ],
      "metadata": {
        "colab": {
          "base_uri": "https://localhost:8080/"
        },
        "id": "Vu3SN0FWYfwr",
        "outputId": "63f78c78-998b-48b8-bb6d-6f79d5731134"
      },
      "execution_count": null,
      "outputs": [
        {
          "output_type": "stream",
          "name": "stdout",
          "text": [
            "\n",
            "Main Topics:\n",
            "1. Definition of climate change\n",
            "2. Causes of climate change\n",
            "3. Effects of climate change\n",
            "4. Possible solutions\n",
            "\n",
            "Key Points:\n",
            "1. Climate change refers to long-term shifts in temperatures and weather patterns.\n",
            "2. Earth's climate naturally fluctuates, but current changes are unprecedented and primarily human-driven.\n",
            "3. Greenhouse gases, particularly carbon dioxide and methane, trap heat from the sun and contribute to warming.\n",
            "4. Human activities, especially burning fossil fuels for energy, release large amounts of these gases.\n",
            "5. Effects of climate change include rising temperatures, extreme weather events, sea level rise, disrupted ecosystems, endangered wildlife, and agricultural impacts.\n",
            "6. Transitioning to renewable energy sources, reducing reliance on fossil fuels, and protecting forests are essential steps to address climate change.\n"
          ]
        }
      ]
    },
    {
      "cell_type": "code",
      "source": [
        "job_interview = '''You are an experienced hiring manager and interview coach. I am preparing for a job interview for the role of Data Analyst. Please provide me with a list of 10-15 common interview questions that are typically asked for this role, along with suggested answer outlines or key points to cover in my responses.\n",
        "\n",
        "For each interview question, provide the following:\n",
        "\n",
        "1. The interview question itself.\n",
        "2. A brief outline or bullet points highlighting the main points to cover in the answer.\n",
        "3. Any additional tips or advice for answering that specific question effectively.\n",
        "\n",
        "Please format the list in a clear and organized manner, making it easy for me to review and prepare my responses.'''\n"
      ],
      "metadata": {
        "id": "Ge0oEq6abxOK"
      },
      "execution_count": null,
      "outputs": []
    },
    {
      "cell_type": "code",
      "source": [
        "job_interview_response_mistral = llm_mistral(job_interview)\n",
        "print(job_interview_response_mistral)"
      ],
      "metadata": {
        "colab": {
          "base_uri": "https://localhost:8080/"
        },
        "id": "fScoiDmIb42c",
        "outputId": "7ba3000e-132e-4136-f90b-7defd4a39814"
      },
      "execution_count": null,
      "outputs": [
        {
          "output_type": "stream",
          "name": "stdout",
          "text": [
            "\n",
            "\n",
            "**Interview Question 1:** Can you describe your experience with data analysis tools such as Excel, SQL, R, Python, Tableau, or Power BI?\n",
            "\n",
            "* Outline: Discuss your level of proficiency with each tool mentioned, including any certifications or projects where you've used them. Emphasize your ability to manipulate and analyze large datasets using these tools.\n",
            "* Tip: Be honest about your experience levels and focus on demonstrating a strong desire to learn new skills if necessary.\n",
            "\n",
            "**Interview Question 2:** How do you approach data analysis projects, from start to finish?\n",
            "\n",
            "* Outline: Discuss the steps involved in data discovery, data cleaning, data transformation, data modeling, and data visualization. Provide examples of how you've applied these steps in past projects.\n",
            "* Tip: Showcase your problem-solving skills and ability to work with ambiguous or complex data.\n",
            "\n",
            "**Interview Question 3:** Can you explain a time when you used data analysis to identify trends, patterns, or insights that influenced business decisions?\n",
            "\n",
            "* Outline: Describe the specific project, the data sources used, and the methods employed to uncover trends or patterns. Discuss the impact of your findings on the organization and how they influenced decision-making.\n",
            "* Tip: Use quantifiable results and concrete examples to demonstrate the value you brought to the team.\n",
            "\n",
            "**Interview Question 4:** How do you handle missing data or incomplete datasets?\n",
            "\n",
            "* Outline: Discuss strategies for dealing with missing data, such as imputation methods or statistical analysis techniques. Explain how you've approached handling incomplete datasets and any challenges you've faced.\n",
            "* Tip: Emphasize your ability to work with ambiguous data and adapt to changing circumstances.\n",
            "\n",
            "**Interview Question 5:** Can you describe a situation where you had to communicate complex data insights to non-technical stakeholders?\n",
            "\n",
            "* Outline: Discuss the specific project, the audience, and the methods used to effectively communicate findings. Highlight any challenges faced and how they were addressed.\n",
            "* Tip: Demonstrate strong communication skills and the ability to translate technical information into understandable terms for non-technical stakeholders.\n",
            "\n",
            "**Interview Question 6:** How do you ensure data accuracy and integrity throughout your analysis?\n",
            "\n",
            "* Outline: Discuss methods for validating data sources, checking for errors, and ensuring data consistency. Provide examples of how you've addressed data quality issues in the past.\n",
            "* Tip: Emphasize attention to detail and a commitment to producing accurate results.\n",
            "\n",
            "**Interview Question 7:** Can you discuss your experience with statistical analysis techniques?\n",
            "\n",
            "* Outline: Describe specific techniques used, such as regression analysis, hypothesis testing, or ANOVA. Provide examples of how these techniques have been applied in past projects and their impact on decision-making.\n",
            "* Tip: Demonstrate a solid understanding of statistical concepts and their applications to data analysis.\n",
            "\n",
            "**Interview Question 8:** How do you approach data security and privacy concerns when working with sensitive data?\n",
            "\n",
            "* Outline: Discuss best practices for securing data, such as encryption, access controls, and secure data transfer methods. Explain any relevant certifications or training you've received in this area.\n",
            "* Tip: Emphasize your commitment to protecting sensitive information and maintaining confidentiality.\n",
            "\n",
            "**Interview Question 9:** Can you discuss a time when you had to collaborate with cross-functional teams on a data analysis project?\n",
            "\n",
            "* Outline: Describe the specific project, the team members involved, and the methods used for effective collaboration. Highlight any challenges faced and how they were addressed.\n",
            "* Tip: Demonstrate strong teamwork skills and the ability to work effectively with individuals from various departments or disciplines.\n",
            "\n",
            "**Interview Question 10:** How do you stay updated on the latest data analysis trends, tools, and techniques?\n",
            "\n",
            "* Outline: Discuss your approach to learning new skills, such as attending industry conferences, following industry blogs, or participating in online communities. Provide examples of how staying informed has benefited past projects.\n",
            "* Tip: Showcase a strong desire for continuous learning and professional development.\n",
            "\n",
            "**Interview Question 11:** Can you discuss your experience with machine learning algorithms and predictive modeling?\n",
            "\n",
            "* Outline: Describe specific algorithms used, such as logistic regression, decision trees, or neural networks. Provide examples of how these techniques have been applied in past projects and their impact on decision-making.\n",
            "* Tip: Demonstrate a solid understanding of machine learning concepts and their applications to data\n"
          ]
        }
      ]
    },
    {
      "cell_type": "markdown",
      "source": [
        "## Tasks\n",
        "\n",
        "1. You are given the opening line of a fairy tale: \"Once upon a time, in a kingdom\n",
        "filled with talking animals...\" Rewrite the prompt to change the story into a science fiction adventure.\n",
        "\n",
        "2. Imagine you're training an LLM to write movie reviews. Provide the LLM with a few examples of prompts and corresponding reviews (e.g., Prompt: Write a positive review for a heartwarming comedy. Review: \"This hilarious film had me laughing out loud! The characters were endearing and the story was full of heart\"). Now, challenge the LLM to write a negative review for a suspenseful thriller using a similar prompt format.\n",
        "\n",
        "3. You are tasked with writing song lyrics for a popular artist. However, the music producer only gives you a single line as a starting point. Can you craft a creative prompt that uses this single line and additional details about the artist's style and genre to inspire the LLM to generate unique and fitting lyrics?\n",
        "\n"
      ],
      "metadata": {
        "id": "Izdo_HE8aImW"
      }
    },
    {
      "cell_type": "markdown",
      "source": [
        "## Advance question\n",
        "\n",
        "### Question:\n",
        "You are a career counselor helping students prepare for job applications. Your task is to create a prompt that instructs an LLM (Large Language Model) to generate a tailored cover letter based on a student's resume. The prompt should guide the LLM to understand the key elements of the resume and use that information to craft a compelling cover letter that highlights the student's relevant qualifications, experiences, and accomplishments for the specific job they are applying for.\n",
        "\n",
        "The prompt should include the following:\n",
        "\n",
        "1. Instructions for the LLM to extract and understand the relevant sections of the resume, such as education, work experience, skills, and achievements.\n",
        "2. Guidance on how to identify the key requirements and desired qualifications for the job based on the job description or posting.\n",
        "3. Directions for structuring the cover letter, including an attention-grabbing introduction, body paragraphs that map the student's qualifications to the job requirements, and a strong closing statement.\n",
        "4. Suggestions for using persuasive language and tailoring the tone and style of the cover letter to the specific company and industry.\n",
        "An example input (the student's resume) and the expected output (a well-crafted cover letter for a specific job application).\n",
        "\n",
        "Remember, the prompt should be clear, concise, and comprehensive, ensuring that the LLM can effectively generate a compelling cover letter that showcases the student's fitness for the job based on their resume."
      ],
      "metadata": {
        "id": "rm-FYVjGdOg3"
      }
    },
    {
      "cell_type": "markdown",
      "source": [
        "## Advance Question.\n",
        "\n",
        "Craft a python function for performing text post-processing hence the output is usable."
      ],
      "metadata": {
        "id": "II-DHrU4eIxs"
      }
    },
    {
      "cell_type": "code",
      "source": [
        "import re\n",
        "import string\n",
        "from collections import Counter\n",
        "\n",
        "def remove_incomplete_sentences(text):\n",
        "    \"\"\"\n",
        "    Removes incomplete sentences from the given text.\n",
        "    Incomplete sentences are defined as sentences that don't end with a period (.) or an exclamation mark (!).\n",
        "    \"\"\"\n",
        "    # Split the text into sentences\n",
        "    sentences = re.split(r'(?<=[.!])\\s*', text)\n",
        "\n",
        "    # Filter out incomplete sentences\n",
        "    complete_sentences = [s for s in sentences if s.endswith(('.', '!'))]\n",
        "\n",
        "    # Join the complete sentences back into a single string\n",
        "    processed_text = ' '.join(complete_sentences)\n",
        "\n",
        "    return processed_text\n",
        "\n",
        "def post_process_text(text):\n",
        "    \"\"\"\n",
        "    Performs post-processing on the input text by applying various cleanup\n",
        "    and formatting functions.\n",
        "    \"\"\"\n",
        "    text = remove_incomplete_sentences(text)\n",
        "\n",
        "    return text"
      ],
      "metadata": {
        "id": "xogbQbe9dON9"
      },
      "execution_count": null,
      "outputs": []
    },
    {
      "cell_type": "code",
      "source": [
        "input_text = \"\"\"A playful mouse saw the sleeping lion and jumped on him to play with his mane.\n",
        "The lion woke up from the disturbance and caught the mouse\n",
        "\"\"\"\n",
        "\n",
        "processed_text = post_process_text(input_text)\n",
        "\n",
        "print(\"Processed Text:\")\n",
        "print(processed_text)"
      ],
      "metadata": {
        "colab": {
          "base_uri": "https://localhost:8080/"
        },
        "id": "c9t-JrbAe_Gq",
        "outputId": "976e19a2-b125-47d1-acca-92140a023e67"
      },
      "execution_count": null,
      "outputs": [
        {
          "output_type": "stream",
          "name": "stdout",
          "text": [
            "Processed Text:\n",
            "A playful mouse saw the sleeping lion and jumped on him to play with his mane.\n"
          ]
        }
      ]
    },
    {
      "cell_type": "code",
      "source": [],
      "metadata": {
        "id": "Qka9gezl0NYj"
      },
      "execution_count": null,
      "outputs": []
    }
  ]
}